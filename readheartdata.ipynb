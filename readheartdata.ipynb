{
 "cells": [
  {
   "cell_type": "markdown",
   "id": "4f23252d",
   "metadata": {},
   "source": [
    "# DSCI Group Project Proposal: Predicting Heart Disease based on Age, Resting Blood Pressure, and Cholesterol Levels #"
   ]
  },
  {
   "cell_type": "markdown",
   "id": "6130de63",
   "metadata": {},
   "source": [
    "#### Clare Sheinin, Emese Soti, Saman Atiq, Sarah Teng ####"
   ]
  },
  {
   "cell_type": "markdown",
   "id": "64973d5d",
   "metadata": {},
   "source": [
    "## Introduction ##"
   ]
  },
  {
   "cell_type": "markdown",
   "id": "f490b151",
   "metadata": {},
   "source": [
    "Heart disease is a term that refers to a variety of conditions that affect the heart. Common conditions include coronary artery disease and exercise-induced angina. Several factors are associated with heart disease, including high blood pressure, high levels of sodium, cholesterol, sugar, and fats, and increasing age (Dalen et al., 2014). In the US, heart disease is the greatest cause of death for both men and women, claiming one life every 33 seconds. In 2021, 695,000 people died from heart disease (CDC, 2023). Considering these stats, we decided to base our project on a knn classification algorithm that will help us predict the presence of heart disease. \n",
    "\n",
    "**Can we predict if a patient has heart disease based on their age, their resting blood pressure, and cholesterol levels?** \n",
    "\n",
    "We will assess the Cleveland Heart Disease dataset to help us answer this question. We will ignore the “?” values in our dataset and use the following column-names:\n",
    "1. **age** - Patient's age\n",
    "2. **sex** - Patient's sex\n",
    "3. **cp** - Chest pain type\n",
    "4. **trestbps** - Resting blood pressure\n",
    "5. **chol** - Cholesterol level (mg/dl)\n",
    "6. **fbs**- True if patient's fasting blood sugar > 120 mg/dl\n",
    "7. **restecg** - Resting electrocardiographic \n",
    "8. **thalach** - Maximum heart rate\n",
    "9. **exang** - Exercise-induced angina (yes or no)\n",
    "10. **oldpeak** - ST exercise-induced Depression\n",
    "11. **slope** - Slope of the peak exercise ST segment \n",
    "12. **ca** - Number of major vessels (0-3) \n",
    "13. **thal** - Presence of thalassemia \n",
    "14. **num** - Diagnosis of heart disease (val= 0 indicates absence of heart disease, val= (1, 2, 3, 4) shows presence of heart disease"
   ]
  },
  {
   "cell_type": "markdown",
   "id": "b5dae867",
   "metadata": {},
   "source": [
    "## Cleaning and wrangling the data set: ##"
   ]
  },
  {
   "cell_type": "markdown",
   "id": "5e7c3d46",
   "metadata": {},
   "source": [
    "### loading the libraries and the data set:"
   ]
  },
  {
   "cell_type": "code",
   "execution_count": 1,
   "id": "2ed72776",
   "metadata": {},
   "outputs": [
    {
     "name": "stderr",
     "output_type": "stream",
     "text": [
      "── \u001b[1mAttaching core tidyverse packages\u001b[22m ──────────────────────── tidyverse 2.0.0 ──\n",
      "\u001b[32m✔\u001b[39m \u001b[34mdplyr    \u001b[39m 1.1.3     \u001b[32m✔\u001b[39m \u001b[34mreadr    \u001b[39m 2.1.4\n",
      "\u001b[32m✔\u001b[39m \u001b[34mforcats  \u001b[39m 1.0.0     \u001b[32m✔\u001b[39m \u001b[34mstringr  \u001b[39m 1.5.0\n",
      "\u001b[32m✔\u001b[39m \u001b[34mggplot2  \u001b[39m 3.4.4     \u001b[32m✔\u001b[39m \u001b[34mtibble   \u001b[39m 3.2.1\n",
      "\u001b[32m✔\u001b[39m \u001b[34mlubridate\u001b[39m 1.9.3     \u001b[32m✔\u001b[39m \u001b[34mtidyr    \u001b[39m 1.3.0\n",
      "\u001b[32m✔\u001b[39m \u001b[34mpurrr    \u001b[39m 1.0.2     \n",
      "── \u001b[1mConflicts\u001b[22m ────────────────────────────────────────── tidyverse_conflicts() ──\n",
      "\u001b[31m✖\u001b[39m \u001b[34mdplyr\u001b[39m::\u001b[32mfilter()\u001b[39m masks \u001b[34mstats\u001b[39m::filter()\n",
      "\u001b[31m✖\u001b[39m \u001b[34mdplyr\u001b[39m::\u001b[32mlag()\u001b[39m    masks \u001b[34mstats\u001b[39m::lag()\n",
      "\u001b[36mℹ\u001b[39m Use the conflicted package (\u001b[3m\u001b[34m<http://conflicted.r-lib.org/>\u001b[39m\u001b[23m) to force all conflicts to become errors\n",
      "── \u001b[1mAttaching packages\u001b[22m ────────────────────────────────────── tidymodels 1.1.1 ──\n",
      "\n",
      "\u001b[32m✔\u001b[39m \u001b[34mbroom       \u001b[39m 1.0.5     \u001b[32m✔\u001b[39m \u001b[34mrsample     \u001b[39m 1.2.0\n",
      "\u001b[32m✔\u001b[39m \u001b[34mdials       \u001b[39m 1.2.0     \u001b[32m✔\u001b[39m \u001b[34mtune        \u001b[39m 1.1.2\n",
      "\u001b[32m✔\u001b[39m \u001b[34minfer       \u001b[39m 1.0.5     \u001b[32m✔\u001b[39m \u001b[34mworkflows   \u001b[39m 1.1.3\n",
      "\u001b[32m✔\u001b[39m \u001b[34mmodeldata   \u001b[39m 1.2.0     \u001b[32m✔\u001b[39m \u001b[34mworkflowsets\u001b[39m 1.0.1\n",
      "\u001b[32m✔\u001b[39m \u001b[34mparsnip     \u001b[39m 1.1.1     \u001b[32m✔\u001b[39m \u001b[34myardstick   \u001b[39m 1.2.0\n",
      "\u001b[32m✔\u001b[39m \u001b[34mrecipes     \u001b[39m 1.0.8     \n",
      "\n",
      "── \u001b[1mConflicts\u001b[22m ───────────────────────────────────────── tidymodels_conflicts() ──\n",
      "\u001b[31m✖\u001b[39m \u001b[34mscales\u001b[39m::\u001b[32mdiscard()\u001b[39m masks \u001b[34mpurrr\u001b[39m::discard()\n",
      "\u001b[31m✖\u001b[39m \u001b[34mdplyr\u001b[39m::\u001b[32mfilter()\u001b[39m   masks \u001b[34mstats\u001b[39m::filter()\n",
      "\u001b[31m✖\u001b[39m \u001b[34mrecipes\u001b[39m::\u001b[32mfixed()\u001b[39m  masks \u001b[34mstringr\u001b[39m::fixed()\n",
      "\u001b[31m✖\u001b[39m \u001b[34mdplyr\u001b[39m::\u001b[32mlag()\u001b[39m      masks \u001b[34mstats\u001b[39m::lag()\n",
      "\u001b[31m✖\u001b[39m \u001b[34myardstick\u001b[39m::\u001b[32mspec()\u001b[39m masks \u001b[34mreadr\u001b[39m::spec()\n",
      "\u001b[31m✖\u001b[39m \u001b[34mrecipes\u001b[39m::\u001b[32mstep()\u001b[39m   masks \u001b[34mstats\u001b[39m::step()\n",
      "\u001b[34m•\u001b[39m Use suppressPackageStartupMessages() to eliminate package startup messages\n",
      "\n",
      "Warning message in file(filename, \"r\", encoding = encoding):\n",
      "“cannot open file 'tests.R': No such file or directory”\n"
     ]
    },
    {
     "ename": "ERROR",
     "evalue": "Error in file(filename, \"r\", encoding = encoding): cannot open the connection\n",
     "output_type": "error",
     "traceback": [
      "Error in file(filename, \"r\", encoding = encoding): cannot open the connection\nTraceback:\n",
      "1. source(\"tests.R\")",
      "2. file(filename, \"r\", encoding = encoding)"
     ]
    }
   ],
   "source": [
    "# Loading tidyverse libraries\n",
    "library(tidyverse)\n",
    "library(repr)\n",
    "library(tidymodels)\n",
    "options(repr.matrix.max.rows = 6)\n",
    "source(\"tests.R\")\n",
    "source('cleanup.R')"
   ]
  },
  {
   "cell_type": "code",
   "execution_count": null,
   "id": "03b6d104",
   "metadata": {},
   "outputs": [],
   "source": [
    "# Reading in the Data\n",
    "cleveland <- read_csv(\"processed.cleveland.data\")\n",
    "cleveland"
   ]
  },
  {
   "cell_type": "code",
   "execution_count": null,
   "id": "e0f62016",
   "metadata": {
    "scrolled": true
   },
   "outputs": [],
   "source": [
    "# The data had no column names, so here we added them\n",
    "columns <- c(\"age\", \"sex\", \"cp\", \"trestbps\", \"chol\", \"fbs\", \"restecg\", \"thalach\", \"exang\", \"oldpeak\", \"slope\", \"ca\", \"thal\", \"num\")\n",
    "cleveland <- read_csv(\"processed.cleveland.data\", col_names = columns)\n",
    "cleveland"
   ]
  },
  {
   "cell_type": "code",
   "execution_count": null,
   "id": "2a80ec7d",
   "metadata": {},
   "outputs": [],
   "source": [
    "# Here we changed our variables of interest into factors and integers to make them easier to work with/plot\n",
    "# The 'num' column becomes 'yes' or 'no' based on whether the number indicates heart disease\n",
    "cleveland_tidy <- cleveland |>\n",
    "  mutate(\n",
    "    num = as.factor(as.integer(num)),\n",
    "    num = recode(num, \"0\" = \"No\", \"1\" = \"Yes\", \"2\" = \"Yes\", \"3\" = \"Yes\", \"4\" = \"Yes\"),\n",
    "    restecg = as.integer(restecg),\n",
    "    restecg = recode(restecg, \"0\" = \"0\", \"1\" = \"1\", \"2\" = \"1\"),\n",
    "    exang = as.integer(exang),\n",
    "    age = as.integer(age),\n",
    "    restecg = as.integer(restecg),\n",
    "    trestbps = as.integer(trestbps),\n",
    "    chol = as.integer(chol)\n",
    "      )\n",
    "cleveland_tidy"
   ]
  },
  {
   "cell_type": "markdown",
   "id": "d5b80f37-56fa-4221-aab0-51c7961c0d9f",
   "metadata": {},
   "source": [
    "## Method:\n",
    "### Data analysis:\n",
    "We first loaded the data set into our proposal and added column headings to the dataset since they were missing in the original file. Then we split the data set into the training and testing data set using the optimal 75:25 ratio. After analysing the values of resting ecg, exercise-induced angina, resting blood pressure and cholesterol levels, we saw that the average age is higher for those with heart disease, and ​​on average heart disease patients had higher resting blood pressure and higher cholesterol. \n",
    "Therefore we decided to use age, trestbps, and chol columns as predictors for our data analyses to predict the \"num\" column (diagnosis).\n",
    "\n",
    "\n",
    "\n",
    "### Visualizing the results:\n",
    "We will use a scatter plot to plot resting blood pressure, age and cholesterol levels to show the correlation and predict the diagnosis of the patient. \n",
    "The points will be colored and shaped based on diagnosis, with no representing absence, and yes representing the presence of heart disease.\n",
    "\n"
   ]
  },
  {
   "cell_type": "code",
   "execution_count": null,
   "id": "801ba705",
   "metadata": {},
   "outputs": [],
   "source": [
    "# Splitting the data into training and testing sets\n",
    "cleveland_split <- initial_split(cleveland_tidy, prop = 0.75, strata = num)\n",
    "cleveland_train <- training(cleveland_split)\n",
    "cleveland_test <- testing(cleveland_split)"
   ]
  },
  {
   "cell_type": "code",
   "execution_count": null,
   "id": "479d63d2",
   "metadata": {},
   "outputs": [],
   "source": [
    "# Summarizing the data\n",
    "cleveland_table <- cleveland_train |>\n",
    "    group_by(num) |>\n",
    "    summarize(n_obs = n(), age_avg = mean(age), restecg_avg = mean(restecg), \n",
    "              exang_avg = mean(exang), trestbps_avg = mean(trestbps), chol_avg = mean(chol))\n",
    "cleveland_table\n",
    "# We can see from this table that the average age is higher for those with heart disease\n",
    "# On average more patients with heart disease had abnormal ECG and angina values (1 = abnormal)\n",
    "# On average heart disease patients had higher resting blood pressure and higher cholesterol"
   ]
  },
  {
   "cell_type": "code",
   "execution_count": null,
   "id": "ea55d165",
   "metadata": {},
   "outputs": [],
   "source": [
    "plot_1 <- ggplot(cleveland_train, aes(x = age, y = trestbps, color = num)) +\n",
    "          geom_point() +\n",
    "          labs (x = \"Age (years)\", y = \"Resting Blood Pressure (mm Hg)\", color = \"Diagnosis\")       \n",
    "plot_1\n",
    "# There's a slight positive trend in the data, with a higher concentration of \"Yes\" diagnoses farther from the origin"
   ]
  },
  {
   "cell_type": "code",
   "execution_count": null,
   "id": "fc1b1929-c0db-4592-a6b7-27dd71a24a15",
   "metadata": {},
   "outputs": [],
   "source": [
    "plot_2 <- ggplot(cleveland_train, aes(x = age, y = chol, color = num)) +\n",
    "          geom_point() +\n",
    "          labs (x = \"Age (years)\", y = \"Serum Cholesterol (mg/dl)\", color = \"Diagnosis\")       \n",
    "plot_2\n",
    "# Again, there's a slight positive trend in the data, with a higher concentration of \"Yes\" diagnoses farther from the origin"
   ]
  },
  {
   "cell_type": "code",
   "execution_count": null,
   "id": "3f263210-451d-4c67-93c2-21c492146255",
   "metadata": {},
   "outputs": [],
   "source": [
    "plot_3 <- ggplot(cleveland_train, aes(x = trestbps, y = chol, color = num)) +\n",
    "          geom_point() +\n",
    "          labs (x = \"Resting Blood Pressure (mm Hg)\", y = \"Serum Cholesterol (mg/dl)\", color = \"Diagnosis\")       \n",
    "plot_3\n",
    "# Again, there's a slight positive trend in the data, but no clear higher concentration of diagnoses"
   ]
  },
  {
   "cell_type": "markdown",
   "id": "c42a5f07",
   "metadata": {},
   "source": [
    "## Expected Outcomes and Significance ##"
   ]
  },
  {
   "cell_type": "markdown",
   "id": "0726bff4",
   "metadata": {},
   "source": [
    "We expect the risk of heart disease is influenced by blood pressure, cholesterol levels, presence of angina, resting ECG, and age. Patients with heart disease are more likely to have angina, high blood pressure, high cholesterol levels, and be older in age. \n",
    "\n",
    "These findings could be used to develop programs that help doctors diagnose potential heart issues. Additionally, this data can help patients visualize how these factors influence the presence of heart disease to discuss with doctors about what they may do to reduce their risk. \n",
    "\n",
    "This analysis could lead to more investigations into how significant each factor is to the risk of heart disease."
   ]
  },
  {
   "cell_type": "markdown",
   "id": "92ff5932-7f18-4016-bf54-2dbbc4a1b6a5",
   "metadata": {},
   "source": [
    "## References: ##"
   ]
  },
  {
   "cell_type": "markdown",
   "id": "e0354fbe-4216-4977-80e8-016764ad79b1",
   "metadata": {},
   "source": [
    "- CDC. (2023, May 15). Heart disease facts. Centers for Disease Control and Prevention. https://www.cdc.gov/heartdisease/facts.htm\n",
    "- Dalen, J. E. et al. (2014, September). The Epidemic of the 20th Century: Coronary Heart Disease. ScienceDirect. https://www.sciencedirect.com/science/article/pii/S0002934314003544?casa_token=_36v0JdxfakAAAAA:BnwjoW6neks6CjsRkrlIL6q9CeQJS_xmTMvD1s41q6E1pQPv-9vFccwtaHn_lp4t6MomcHFFVQ\n"
   ]
  }
 ],
 "metadata": {
  "kernelspec": {
   "display_name": "R",
   "language": "R",
   "name": "ir"
  },
  "language_info": {
   "codemirror_mode": "r",
   "file_extension": ".r",
   "mimetype": "text/x-r-source",
   "name": "R",
   "pygments_lexer": "r",
   "version": "4.3.1"
  }
 },
 "nbformat": 4,
 "nbformat_minor": 5
}
